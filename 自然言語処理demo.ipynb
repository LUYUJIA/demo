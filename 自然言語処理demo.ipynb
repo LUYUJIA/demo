{
 "cells": [
  {
   "cell_type": "code",
   "execution_count": 1,
   "metadata": {},
   "outputs": [],
   "source": [
    "corpus = [\n",
    "    \"東京タワーへのアクセス。\",\n",
    "    \"どんなお土産がありますか\",\n",
    "    \"私は温泉に行きたいです\",\n",
    "    \"東急ホテル予約したい\",\n",
    "    \"浅草寺への行き方\",\n",
    "    \"ご飯を食べたいです。\",\n",
    "    \"私はタクシーを呼びたい\",\n",
    "    \"博物館のチケットを買いたいです\",\n",
    "    \"新宿までの距離は？\",\n",
    "    \"周辺にはどんなレストランがありますか？\"\n",
    "    \n",
    "]"
   ]
  },
  {
   "cell_type": "markdown",
   "metadata": {},
   "source": [
    "## TF/IDF"
   ]
  },
  {
   "cell_type": "code",
   "execution_count": 2,
   "metadata": {},
   "outputs": [],
   "source": [
    "import numpy as np\n",
    "from sklearn.feature_extraction.text import TfidfVectorizer\n",
    "import MeCab\n",
    "mecab = MeCab.Tagger (\"-Owakati\")"
   ]
  },
  {
   "cell_type": "code",
   "execution_count": 3,
   "metadata": {},
   "outputs": [],
   "source": [
    "for index,sentence in enumerate(corpus):\n",
    "    corpus[index] = mecab.parse(sentence)"
   ]
  },
  {
   "cell_type": "code",
   "execution_count": 4,
   "metadata": {},
   "outputs": [
    {
     "data": {
      "text/plain": [
       "['東京 タワー へ の アクセス 。 \\n',\n",
       " 'どんな お 土産 が あり ます か \\n',\n",
       " '私 は 温泉 に 行き たい です \\n',\n",
       " '東急 ホテル 予約 し たい \\n',\n",
       " '浅草寺 へ の 行き 方 \\n',\n",
       " 'ご飯 を 食べ たい です 。 \\n',\n",
       " '私 は タクシー を 呼び たい \\n',\n",
       " '博物館 の チケット を 買い たい です \\n',\n",
       " '新宿 まで の 距離 は ？ \\n',\n",
       " '周辺 に は どんな レストラン が あり ます か ？ \\n']"
      ]
     },
     "execution_count": 4,
     "metadata": {},
     "output_type": "execute_result"
    }
   ],
   "source": [
    "corpus"
   ]
  },
  {
   "cell_type": "code",
   "execution_count": 5,
   "metadata": {},
   "outputs": [],
   "source": [
    "NG_filter = [\"です\",\"ます\",\"？\",\"。\"]\n",
    "\n",
    "for index,sentence in enumerate(corpus):\n",
    "    word_list = sentence.split(\" \")\n",
    "    for word in word_list:\n",
    "        if word in NG_filter:\n",
    "            word_list.remove(word)\n",
    "    corpus[index] = \" \".join(word_list)"
   ]
  },
  {
   "cell_type": "code",
   "execution_count": 6,
   "metadata": {},
   "outputs": [
    {
     "data": {
      "text/plain": [
       "['東京 タワー へ の アクセス \\n',\n",
       " 'どんな お 土産 が あり か \\n',\n",
       " '私 は 温泉 に 行き たい \\n',\n",
       " '東急 ホテル 予約 し たい \\n',\n",
       " '浅草寺 へ の 行き 方 \\n',\n",
       " 'ご飯 を 食べ たい 。 \\n',\n",
       " '私 は タクシー を 呼び たい \\n',\n",
       " '博物館 の チケット を 買い たい \\n',\n",
       " '新宿 まで の 距離 は \\n',\n",
       " '周辺 に は どんな レストラン が あり か \\n']"
      ]
     },
     "execution_count": 6,
     "metadata": {},
     "output_type": "execute_result"
    }
   ],
   "source": [
    "corpus"
   ]
  },
  {
   "cell_type": "code",
   "execution_count": 7,
   "metadata": {},
   "outputs": [],
   "source": [
    "vectorizer = TfidfVectorizer()"
   ]
  },
  {
   "cell_type": "code",
   "execution_count": 8,
   "metadata": {},
   "outputs": [],
   "source": [
    "tfidf_X = vectorizer.fit_transform(corpus).toarray()"
   ]
  },
  {
   "cell_type": "code",
   "execution_count": 9,
   "metadata": {},
   "outputs": [],
   "source": [
    "index = tfidf_X.argsort(axis=1)[:,::-1]\n",
    "feature_names = np.array(vectorizer.get_feature_names())\n",
    "feature_words = feature_names[index]"
   ]
  },
  {
   "cell_type": "code",
   "execution_count": 10,
   "metadata": {},
   "outputs": [
    {
     "data": {
      "text/plain": [
       "array(['あり', 'ご飯', 'たい', 'どんな', 'まで', 'アクセス', 'タクシー', 'タワー', 'チケット',\n",
       "       'ホテル', 'レストラン', '予約', '博物館', '周辺', '呼び', '土産', '新宿', '東京', '東急',\n",
       "       '浅草寺', '温泉', '行き', '買い', '距離', '食べ'], dtype='<U5')"
      ]
     },
     "execution_count": 10,
     "metadata": {},
     "output_type": "execute_result"
    }
   ],
   "source": [
    "feature_names"
   ]
  },
  {
   "cell_type": "code",
   "execution_count": 11,
   "metadata": {},
   "outputs": [
    {
     "data": {
      "text/plain": [
       "(10, 25)"
      ]
     },
     "execution_count": 11,
     "metadata": {},
     "output_type": "execute_result"
    }
   ],
   "source": [
    "feature_words.shape"
   ]
  },
  {
   "cell_type": "code",
   "execution_count": 12,
   "metadata": {},
   "outputs": [
    {
     "name": "stdout",
     "output_type": "stream",
     "text": [
      "['アクセス' '東京' 'タワー']\n",
      "['土産' 'あり' 'どんな']\n",
      "['温泉' '行き' 'たい']\n",
      "['予約' '東急' 'ホテル']\n",
      "['浅草寺' '行き' '食べ']\n",
      "['食べ' 'ご飯' 'たい']\n",
      "['タクシー' '呼び' 'たい']\n",
      "['博物館' '買い' 'チケット']\n",
      "['まで' '新宿' '距離']\n",
      "['周辺' 'レストラン' 'あり']\n"
     ]
    }
   ],
   "source": [
    "n = 3  # top何単語取るか\n",
    "\n",
    "for sentence in feature_words:\n",
    "    print(sentence[:3])"
   ]
  },
  {
   "cell_type": "markdown",
   "metadata": {},
   "source": [
    "↓  \n",
    "重要度の高い単語を抽出できた"
   ]
  },
  {
   "cell_type": "markdown",
   "metadata": {},
   "source": [
    "## LDA"
   ]
  },
  {
   "cell_type": "code",
   "execution_count": 13,
   "metadata": {},
   "outputs": [],
   "source": [
    "from sklearn.decomposition import LatentDirichletAllocation as LDA"
   ]
  },
  {
   "cell_type": "code",
   "execution_count": 14,
   "metadata": {},
   "outputs": [],
   "source": [
    "topic_num=3 #トピック数は事前に考えないといけない\n",
    "lda = LDA(n_components=topic_num, max_iter=30, n_jobs=-1)"
   ]
  },
  {
   "cell_type": "code",
   "execution_count": 15,
   "metadata": {},
   "outputs": [
    {
     "data": {
      "text/plain": [
       "LatentDirichletAllocation(batch_size=128, doc_topic_prior=None,\n",
       "             evaluate_every=-1, learning_decay=0.7,\n",
       "             learning_method='batch', learning_offset=10.0,\n",
       "             max_doc_update_iter=100, max_iter=30, mean_change_tol=0.001,\n",
       "             n_components=3, n_jobs=-1, n_topics=None, perp_tol=0.1,\n",
       "             random_state=None, topic_word_prior=None,\n",
       "             total_samples=1000000.0, verbose=0)"
      ]
     },
     "execution_count": 15,
     "metadata": {},
     "output_type": "execute_result"
    }
   ],
   "source": [
    "lda.fit(tfidf_X)"
   ]
  },
  {
   "cell_type": "code",
   "execution_count": 16,
   "metadata": {},
   "outputs": [
    {
     "name": "stdout",
     "output_type": "stream",
     "text": [
      "topic: 0\n",
      "たい 1.4685267036020175\n",
      "温泉 1.023094024248129\n",
      "土産 0.9683873029077801\n",
      "topic: 1\n",
      "食べ 0.9823756240277501\n",
      "ご飯 0.9823756240277501\n",
      "新宿 0.9083906686523513\n",
      "topic: 2\n",
      "浅草寺 1.090480955708724\n",
      "タクシー 0.9800907789852604\n",
      "呼び 0.9800907789852604\n"
     ]
    }
   ],
   "source": [
    " for i, component in enumerate(lda.components_[:topic_num]):\n",
    "        print(\"topic:\", i)\n",
    "        idx = component.argsort()[::-1][:3]\n",
    "        for j in idx:\n",
    "            print(feature_names[j], component[j])"
   ]
  },
  {
   "cell_type": "markdown",
   "metadata": {},
   "source": [
    "↓  \n",
    "データ数が少ないから、連動性見つけず、結果はあまり良くない。さらに、LDAの欠点としてはtopicの意味が明示されてない"
   ]
  },
  {
   "cell_type": "markdown",
   "metadata": {},
   "source": [
    "## LDA prediction test"
   ]
  },
  {
   "cell_type": "code",
   "execution_count": 17,
   "metadata": {},
   "outputs": [
    {
     "name": "stdout",
     "output_type": "stream",
     "text": [
      "###  0\n",
      "ステーキを食べたい\n",
      "[0.17602663 0.67708717 0.1468862 ]  >>> topic 1\n",
      "\n"
     ]
    }
   ],
   "source": [
    "text1=\"ステーキを食べたい\"\n",
    "\n",
    "\n",
    "test1=[text1]\n",
    "\n",
    "for index,sentence in enumerate(test1):\n",
    "    test1[index] = mecab.parse(sentence)\n",
    "    \n",
    "\n",
    "X_test1 = vectorizer.transform(test1)\n",
    "lda_test1 = lda.transform(X_test1)\n",
    "\n",
    "for index,score in enumerate(lda_test1):\n",
    "    print(\"### \",index)\n",
    "    topicid = np.argmax(score)\n",
    "    print(text1)\n",
    "    print(score,\" >>> topic\",topicid)\n",
    "    print(\"\")"
   ]
  },
  {
   "cell_type": "markdown",
   "metadata": {},
   "source": [
    "↓  \n",
    "食事系として予測されてますが、まあまあ。。"
   ]
  }
 ],
 "metadata": {
  "kernelspec": {
   "display_name": "Python 3",
   "language": "python",
   "name": "python3"
  },
  "language_info": {
   "codemirror_mode": {
    "name": "ipython",
    "version": 3
   },
   "file_extension": ".py",
   "mimetype": "text/x-python",
   "name": "python",
   "nbconvert_exporter": "python",
   "pygments_lexer": "ipython3",
   "version": "3.6.5"
  }
 },
 "nbformat": 4,
 "nbformat_minor": 2
}
